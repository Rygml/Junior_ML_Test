{
 "cells": [
  {
   "cell_type": "markdown",
   "id": "77afa63f-ec21-4c03-9cc3-fb00ba94836f",
   "metadata": {},
   "source": [
    "# 1) Install dependencies and import modules"
   ]
  },
  {
   "cell_type": "code",
   "execution_count": 362,
   "id": "b5af535a-8b83-4e46-880b-6b7106dc51a0",
   "metadata": {},
   "outputs": [
    {
     "name": "stdout",
     "output_type": "stream",
     "text": [
      "Defaulting to user installation because normal site-packages is not writeable\n",
      "Looking in links: /usr/share/pip-wheels\n",
      "Requirement already satisfied: torch in /opt/conda/envs/anaconda-ai-2023-11/lib/python3.10/site-packages (2.0.1)\n",
      "Requirement already satisfied: filelock in /opt/conda/envs/anaconda-ai-2023-11/lib/python3.10/site-packages (from torch) (3.9.0)\n",
      "Requirement already satisfied: typing-extensions in /opt/conda/envs/anaconda-ai-2023-11/lib/python3.10/site-packages (from torch) (4.8.0)\n",
      "Requirement already satisfied: sympy in /opt/conda/envs/anaconda-ai-2023-11/lib/python3.10/site-packages (from torch) (1.11.1)\n",
      "Requirement already satisfied: networkx in /opt/conda/envs/anaconda-ai-2023-11/lib/python3.10/site-packages (from torch) (3.1)\n",
      "Requirement already satisfied: jinja2 in /opt/conda/envs/anaconda-ai-2023-11/lib/python3.10/site-packages (from torch) (3.1.2)\n",
      "Requirement already satisfied: MarkupSafe>=2.0 in /opt/conda/envs/anaconda-ai-2023-11/lib/python3.10/site-packages (from jinja2->torch) (2.1.1)\n",
      "Requirement already satisfied: mpmath>=0.19 in /opt/conda/envs/anaconda-ai-2023-11/lib/python3.10/site-packages (from sympy->torch) (1.3.0)\n"
     ]
    }
   ],
   "source": [
    "!pip install torch "
   ]
  },
  {
   "cell_type": "code",
   "execution_count": 360,
   "id": "d4898dd7-2d5a-48f4-ae42-81679b3a8db5",
   "metadata": {},
   "outputs": [],
   "source": [
    "import torch\n",
    "import torch.nn as nn\n",
    "import torch.optim as optim"
   ]
  },
  {
   "cell_type": "markdown",
   "id": "d00819a2-4935-480d-8ccc-867fd9aa064e",
   "metadata": {},
   "source": [
    "# 2) Create a model"
   ]
  },
  {
   "cell_type": "code",
   "execution_count": 367,
   "id": "79fc35a3-da49-48a9-b0ba-0ce25129e5aa",
   "metadata": {},
   "outputs": [],
   "source": [
    "class TorchBasicsModel(nn.Module):\n",
    "    def __init__(self):\n",
    "        super(TorchBasicsModel, self).__init__()\n",
    "        \n",
    "        #Generate n within specified range [1,3]\n",
    "        self.n = nn.Parameter(1 + 2 * torch.rand(1))\n",
    "\n",
    "    def forward(self, x):\n",
    "        #Clamp n in way, that it remains in necessary interval\n",
    "        n_clamp = torch.clamp(self.n, min=1, max=3)\n",
    "\n",
    "        y = torch.pow(x, n_clamp)\n",
    "        return y"
   ]
  },
  {
   "cell_type": "markdown",
   "id": "e1190eb9-0a66-4cdb-8fbd-a8fabaaf3ac4",
   "metadata": {},
   "source": [
    "# 3) Training the model"
   ]
  },
  {
   "cell_type": "code",
   "execution_count": 373,
   "id": "0faf76b4-02ef-4cce-8937-dc6b08d3aa62",
   "metadata": {},
   "outputs": [],
   "source": [
    "def create_dataset(batch_size, input_size):\n",
    "    # Generate random input data\n",
    "    x = torch.rand((batch_size, input_size))\n",
    "    \n",
    "    # Generate corresponding target data in range [1,3]\n",
    "    n = torch.randint(1, 4, (batch_size, 1)).float()\n",
    "    \n",
    "    y = torch.pow(x, n)\n",
    "    return x, y"
   ]
  },
  {
   "cell_type": "code",
   "execution_count": 371,
   "id": "f11e95ed-ab89-45ca-8fdc-6ddc4ec44c7a",
   "metadata": {},
   "outputs": [],
   "source": [
    "# Define hyperparameters\n",
    "batch_size = 8\n",
    "input_size = 16\n",
    "num_epochs = 3000\n",
    "learning_rate = 1e-1"
   ]
  },
  {
   "cell_type": "code",
   "execution_count": 375,
   "id": "e16b1e38-57e6-45df-ae08-04b9a5a81b4a",
   "metadata": {},
   "outputs": [],
   "source": [
    "# Instantiate the model\n",
    "model = TorchBasicsModel()\n",
    "\n",
    "# Define MSE loss function and SGD optimizer\n",
    "criterion = nn.MSELoss()\n",
    "optimizer = optim.SGD(model.parameters(), lr=learning_rate)"
   ]
  },
  {
   "cell_type": "code",
   "execution_count": 332,
   "id": "1e82eec4-6d4d-4806-a2e5-3314414a216e",
   "metadata": {},
   "outputs": [
    {
     "name": "stdout",
     "output_type": "stream",
     "text": [
      "Initial value of n: 2.61716890335083\n",
      "Epoch [100/3000], Loss: 0.0314\n",
      "Epoch [200/3000], Loss: 0.0074\n",
      "Epoch [300/3000], Loss: 0.0240\n",
      "Epoch [400/3000], Loss: 0.0169\n",
      "Epoch [500/3000], Loss: 0.0136\n",
      "Epoch [600/3000], Loss: 0.0178\n",
      "Epoch [700/3000], Loss: 0.0130\n",
      "Epoch [800/3000], Loss: 0.0134\n",
      "Epoch [900/3000], Loss: 0.0039\n",
      "Epoch [1000/3000], Loss: 0.0124\n",
      "Epoch [1100/3000], Loss: 0.0161\n",
      "Epoch [1200/3000], Loss: 0.0099\n",
      "Epoch [1300/3000], Loss: 0.0166\n",
      "Epoch [1400/3000], Loss: 0.0133\n",
      "Epoch [1500/3000], Loss: 0.0177\n",
      "Epoch [1600/3000], Loss: 0.0092\n",
      "Epoch [1700/3000], Loss: 0.0085\n",
      "Epoch [1800/3000], Loss: 0.0161\n",
      "Epoch [1900/3000], Loss: 0.0132\n",
      "Epoch [2000/3000], Loss: 0.0133\n",
      "Epoch [2100/3000], Loss: 0.0111\n",
      "Epoch [2200/3000], Loss: 0.0163\n",
      "Epoch [2300/3000], Loss: 0.0100\n",
      "Epoch [2400/3000], Loss: 0.0118\n",
      "Epoch [2500/3000], Loss: 0.0085\n",
      "Epoch [2600/3000], Loss: 0.0143\n",
      "Epoch [2700/3000], Loss: 0.0164\n",
      "Epoch [2800/3000], Loss: 0.0135\n",
      "Epoch [2900/3000], Loss: 0.0195\n",
      "Epoch [3000/3000], Loss: 0.0120\n",
      "Final value of n: 1.7908947467803955\n"
     ]
    }
   ],
   "source": [
    "print(f'Initial value of n: {model.n.item()}')\n",
    "\n",
    "# Training loop\n",
    "for epoch in range(num_epochs):\n",
    "    # Generate random training data\n",
    "    x_train, y_train = create_dataset(batch_size, input_size)\n",
    "    \n",
    "    # Forward pass\n",
    "    outputs = model(x_train)\n",
    "    loss = criterion(outputs, y_train)\n",
    "    \n",
    "    # Backward pass and optimization\n",
    "    optimizer.zero_grad()\n",
    "    loss.backward()\n",
    "    optimizer.step()\n",
    "    \n",
    "    if (epoch+1) % 100 == 0:\n",
    "        print(f'Epoch [{epoch+1}/{num_epochs}], Loss: {loss.item():.4f}')\n",
    "\n",
    "\n",
    "print(f'Final value of n: {model.n.item()}')"
   ]
  },
  {
   "cell_type": "markdown",
   "id": "9e56075e-834a-4f2c-9e34-5f6cd18ace88",
   "metadata": {},
   "source": [
    "# 4) Model usage demonstration"
   ]
  },
  {
   "cell_type": "code",
   "execution_count": 377,
   "id": "9fa43479-543e-452f-aa48-db4f462aea95",
   "metadata": {},
   "outputs": [],
   "source": [
    "#Create random batched vector and use forward method\n",
    "x = torch.rand((8,16))\n",
    "y = model(x)"
   ]
  },
  {
   "cell_type": "code",
   "execution_count": 379,
   "id": "a9d7c92d-3087-4674-bff0-ce3ba30b4f46",
   "metadata": {},
   "outputs": [
    {
     "data": {
      "text/plain": [
       "tensor([[8.0660e-02, 3.2435e-01, 1.4751e-02, 9.0167e-01, 1.4298e-02, 7.5666e-02,\n",
       "         1.4055e-02, 7.5672e-01, 5.4340e-01, 3.9707e-02, 2.7000e-01, 8.0763e-01,\n",
       "         2.2602e-01, 2.0862e-01, 9.3224e-02, 1.4543e-02],\n",
       "        [1.2469e-01, 1.6525e-01, 1.2610e-01, 2.1307e-03, 4.2762e-01, 6.3648e-02,\n",
       "         6.6643e-02, 9.7582e-01, 6.7547e-01, 6.4563e-02, 8.0592e-01, 9.9746e-05,\n",
       "         5.8217e-02, 8.4152e-01, 1.2109e-04, 2.6690e-02],\n",
       "        [7.3771e-01, 2.1780e-03, 4.8226e-01, 3.3530e-01, 6.3120e-01, 2.9788e-01,\n",
       "         4.8147e-01, 2.7035e-01, 8.2209e-02, 9.8074e-01, 8.2748e-03, 3.3320e-01,\n",
       "         6.5082e-02, 2.8246e-01, 9.3366e-01, 2.8589e-01],\n",
       "        [2.3259e-01, 2.4992e-01, 1.0037e-01, 2.7239e-01, 5.7713e-01, 6.5116e-01,\n",
       "         2.8156e-02, 7.9808e-03, 7.7992e-01, 5.6709e-01, 4.7289e-02, 3.4418e-02,\n",
       "         9.8151e-01, 5.4788e-01, 4.6068e-01, 2.2861e-03],\n",
       "        [2.1735e-03, 5.5280e-01, 7.8721e-05, 9.0277e-02, 4.8200e-01, 3.9758e-02,\n",
       "         2.9575e-01, 2.3760e-02, 9.0986e-01, 4.1305e-02, 4.2540e-02, 4.7518e-02,\n",
       "         7.6196e-03, 1.1421e-02, 2.7940e-01, 6.2931e-04],\n",
       "        [8.1443e-01, 1.9418e-04, 4.8321e-01, 4.4649e-02, 7.8615e-01, 3.1588e-01,\n",
       "         6.5719e-03, 4.3593e-02, 3.6259e-02, 3.6009e-01, 1.2960e-01, 4.0539e-01,\n",
       "         1.3145e-01, 2.8764e-01, 6.4013e-01, 4.3909e-01],\n",
       "        [9.6823e-01, 1.4199e-01, 4.9444e-03, 6.6332e-01, 3.3471e-01, 6.7256e-01,\n",
       "         1.0005e-02, 4.9255e-01, 4.8695e-01, 2.4076e-01, 6.2320e-02, 2.7290e-01,\n",
       "         9.8513e-03, 5.2813e-01, 5.0032e-01, 5.4802e-04],\n",
       "        [8.6057e-01, 6.1130e-01, 6.3804e-02, 5.2609e-04, 1.7596e-02, 6.9565e-01,\n",
       "         6.2287e-02, 3.2556e-02, 1.4519e-02, 7.1619e-01, 2.4069e-01, 4.9919e-01,\n",
       "         5.5697e-03, 2.6785e-01, 1.1772e-02, 2.4087e-01]],\n",
       "       grad_fn=<PowBackward1>)"
      ]
     },
     "execution_count": 379,
     "metadata": {},
     "output_type": "execute_result"
    }
   ],
   "source": [
    "y"
   ]
  },
  {
   "cell_type": "code",
   "execution_count": 381,
   "id": "f222b345-008b-4a6f-936c-a7e2c5ca7bfd",
   "metadata": {},
   "outputs": [
    {
     "data": {
      "text/plain": [
       "tensor(True)"
      ]
     },
     "execution_count": 381,
     "metadata": {},
     "output_type": "execute_result"
    }
   ],
   "source": [
    "#Check if all outputs are positive\n",
    "torch.all(y > 0)"
   ]
  }
 ],
 "metadata": {
  "kernelspec": {
   "display_name": "anaconda-ai-2023-11",
   "language": "python",
   "name": "conda-env-anaconda-ai-2023-11-py"
  },
  "language_info": {
   "codemirror_mode": {
    "name": "ipython",
    "version": 3
   },
   "file_extension": ".py",
   "mimetype": "text/x-python",
   "name": "python",
   "nbconvert_exporter": "python",
   "pygments_lexer": "ipython3",
   "version": "3.10.13"
  }
 },
 "nbformat": 4,
 "nbformat_minor": 5
}
