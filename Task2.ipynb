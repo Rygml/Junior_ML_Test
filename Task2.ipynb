{
 "cells": [
  {
   "cell_type": "markdown",
   "id": "23acad8c-2210-41e4-9f33-6e60cfbb39ce",
   "metadata": {},
   "source": [
    "# 1) Install dependencies and import libraries"
   ]
  },
  {
   "cell_type": "code",
   "execution_count": 3,
   "id": "d47eacfa-b370-4cdc-a473-8fb81af6dbed",
   "metadata": {},
   "outputs": [
    {
     "name": "stdout",
     "output_type": "stream",
     "text": [
      "Requirement already satisfied: matplotlib in c:\\users\\hp\\appdata\\roaming\\python\\python39\\site-packages (3.8.2)\n",
      "Requirement already satisfied: numpy in d:\\conda\\envs\\signdetection\\lib\\site-packages (1.26.4)\n",
      "Requirement already satisfied: scikit-learn in d:\\conda\\envs\\signdetection\\lib\\site-packages (1.4.0)\n",
      "Requirement already satisfied: scipy in d:\\conda\\envs\\signdetection\\lib\\site-packages (1.12.0)\n",
      "Requirement already satisfied: pandas in d:\\conda\\envs\\signdetection\\lib\\site-packages (2.2.1)\n",
      "Collecting scikeras\n",
      "  Downloading scikeras-0.12.0-py3-none-any.whl.metadata (4.0 kB)\n",
      "Requirement already satisfied: contourpy>=1.0.1 in c:\\users\\hp\\appdata\\roaming\\python\\python39\\site-packages (from matplotlib) (1.2.0)\n",
      "Requirement already satisfied: cycler>=0.10 in c:\\users\\hp\\appdata\\roaming\\python\\python39\\site-packages (from matplotlib) (0.12.1)\n",
      "Requirement already satisfied: fonttools>=4.22.0 in c:\\users\\hp\\appdata\\roaming\\python\\python39\\site-packages (from matplotlib) (4.48.1)\n",
      "Requirement already satisfied: kiwisolver>=1.3.1 in c:\\users\\hp\\appdata\\roaming\\python\\python39\\site-packages (from matplotlib) (1.4.5)\n",
      "Requirement already satisfied: packaging>=20.0 in d:\\conda\\envs\\signdetection\\lib\\site-packages (from matplotlib) (23.2)\n",
      "Requirement already satisfied: pillow>=8 in c:\\users\\hp\\appdata\\roaming\\python\\python39\\site-packages (from matplotlib) (10.2.0)\n",
      "Requirement already satisfied: pyparsing>=2.3.1 in c:\\users\\hp\\appdata\\roaming\\python\\python39\\site-packages (from matplotlib) (3.1.1)\n",
      "Requirement already satisfied: python-dateutil>=2.7 in d:\\conda\\envs\\signdetection\\lib\\site-packages (from matplotlib) (2.8.2)\n",
      "Requirement already satisfied: importlib-resources>=3.2.0 in d:\\conda\\envs\\signdetection\\lib\\site-packages (from matplotlib) (6.1.1)\n",
      "Requirement already satisfied: joblib>=1.2.0 in d:\\conda\\envs\\signdetection\\lib\\site-packages (from scikit-learn) (1.3.2)\n",
      "Requirement already satisfied: threadpoolctl>=2.0.0 in d:\\conda\\envs\\signdetection\\lib\\site-packages (from scikit-learn) (3.2.0)\n",
      "Requirement already satisfied: pytz>=2020.1 in d:\\conda\\envs\\signdetection\\lib\\site-packages (from pandas) (2023.3.post1)\n",
      "Requirement already satisfied: tzdata>=2022.7 in d:\\conda\\envs\\signdetection\\lib\\site-packages (from pandas) (2024.1)\n",
      "Requirement already satisfied: tensorflow-io-gcs-filesystem<0.32,>=0.23.1 in d:\\conda\\envs\\signdetection\\lib\\site-packages (from scikeras) (0.31.0)\n",
      "Requirement already satisfied: zipp>=3.1.0 in d:\\conda\\envs\\signdetection\\lib\\site-packages (from importlib-resources>=3.2.0->matplotlib) (3.17.0)\n",
      "Requirement already satisfied: six>=1.5 in d:\\conda\\envs\\signdetection\\lib\\site-packages (from python-dateutil>=2.7->matplotlib) (1.16.0)\n",
      "Downloading scikeras-0.12.0-py3-none-any.whl (27 kB)\n",
      "Installing collected packages: scikeras\n",
      "Successfully installed scikeras-0.12.0\n"
     ]
    }
   ],
   "source": [
    "!pip install matplotlib numpy scikit-learn scipy pandas scikeras"
   ]
  },
  {
   "cell_type": "code",
   "execution_count": 7,
   "id": "c8205b0b-ae7b-4a45-93a0-da259fb00d24",
   "metadata": {},
   "outputs": [],
   "source": [
    "import os\n",
    "import numpy as np\n",
    "import pandas as pd\n",
    "from matplotlib import pyplot as plt\n",
    "import tensorflow as tf\n",
    "from tensorflow import keras\n",
    "from tensorflow.keras.models import Sequential\n",
    "from sklearn.model_selection import KFold, train_test_split\n",
    "from scikeras.wrappers import KerasRegressor"
   ]
  },
  {
   "cell_type": "markdown",
   "id": "3c1414b3-b3bb-4565-83f3-f37e26aabe59",
   "metadata": {},
   "source": [
    "# 2) Import and preprocess data "
   ]
  },
  {
   "cell_type": "code",
   "execution_count": 11,
   "id": "d9ff0dc4-8932-4b75-a127-ccca4416609d",
   "metadata": {},
   "outputs": [],
   "source": [
    "directory = 'D:\\DSUA\\data'\n",
    "original_curves = []\n",
    "noised_curves = []\n",
    "\n",
    "original_files = np.array([filename for filename in os.listdir(directory) if filename.endswith('_0.csv')])\n",
    "\n",
    "for original_filename in original_files:\n",
    "    original_curve = pd.read_csv(os.path.join(directory, original_filename))\n",
    "\n",
    "    original_curves.append(np.array(original_curve).flatten())\n",
    "    \n",
    "    original_id = original_filename.split('_')[1:3]\n",
    "    original_id ='_'.join(original_id)\n",
    "    \n",
    "    for i in range(1, 10):\n",
    "        noised_filename = f'cor_{original_id}_{i}.csv'\n",
    "\n",
    "        if noised_filename in os.listdir(directory):\n",
    "            noised_curve = pd.read_csv(os.path.join(directory, noised_filename))\n",
    "            noised_curves.append(np.array(noised_curve).flatten())"
   ]
  },
  {
   "cell_type": "code",
   "execution_count": 12,
   "id": "e16ec46c-5bc2-44e2-b62f-98c3b40b2032",
   "metadata": {},
   "outputs": [],
   "source": [
    "original_curves = np.repeat(np.vstack(original_curves), 9, axis=0)\n",
    "noised_curves = np.vstack(noised_curves)"
   ]
  },
  {
   "cell_type": "code",
   "execution_count": 13,
   "id": "86e9777f-fe32-4679-bf4f-1575a2017b12",
   "metadata": {},
   "outputs": [],
   "source": [
    "def standardize_data(data):\n",
    "    return np.array([(row - np.mean(row)) / np.std(row) if np.std(row) != 0 else row for row in data])"
   ]
  },
  {
   "cell_type": "code",
   "execution_count": 14,
   "id": "7ea2cc9c-f43e-4dfa-9686-b97b5db28f41",
   "metadata": {},
   "outputs": [],
   "source": [
    "original_curves = standardize_data(original_curves)\n",
    "noised_curves = standardize_data(noised_curves)"
   ]
  },
  {
   "cell_type": "markdown",
   "id": "21208a3a-9e3a-4cbc-b13d-0601b211ca06",
   "metadata": {},
   "source": [
    "# EDA"
   ]
  },
  {
   "cell_type": "code",
   "execution_count": 8,
   "id": "357d5d62-a5d2-43d0-bb02-523d2952fd44",
   "metadata": {},
   "outputs": [],
   "source": [
    "def plot_curve(df_orig, df_noise):\n",
    "    plt.plot(df_orig, label='Original curve', color='blue')\n",
    "    plt.plot(df_noise, label='Noised curve', color='red')  \n",
    "    \n",
    "    plt.xlabel('Index')\n",
    "    plt.ylabel('Value')  \n",
    "    \n",
    "    plt.title('Comparison') \n",
    "    plt.legend()\n",
    "    plt.grid(True)\n",
    "    \n",
    "    plt.show()"
   ]
  },
  {
   "cell_type": "code",
   "execution_count": 15,
   "id": "a97f144a-9436-48c3-9782-d76a3416c2ed",
   "metadata": {},
   "outputs": [],
   "source": [
    "#Create an empty DataFrame with columns\n",
    "df = pd.DataFrame(columns=['Noise Curve', 'Noise Level', 'Original Curve'])\n",
    "\n",
    "for i, (noised_curve, original_curve) in enumerate(zip(noised_curves, original_curves)):\n",
    "    row = [noised_curve, (i % 9) + 1, original_curve] \n",
    "    \n",
    "    # Append the new row to the DataFrame\n",
    "    df.loc[len(df)] = row"
   ]
  },
  {
   "cell_type": "code",
   "execution_count": 221,
   "id": "65b81312-5fba-4d76-82fa-9ad32c71eb75",
   "metadata": {},
   "outputs": [],
   "source": [
    "df_orig = pd.read_csv(\"D:\\DSUA\\data\\cor_0_2_0.csv\")\n",
    "# df_orig"
   ]
  },
  {
   "cell_type": "code",
   "execution_count": 222,
   "id": "ecbd48a9-43ef-40a1-b68f-bd3fc1dade56",
   "metadata": {},
   "outputs": [],
   "source": [
    "df_noise = pd.read_csv(\"D:\\DSUA\\data\\cor_0_2_6.csv\")\n",
    "# df_noise"
   ]
  },
  {
   "cell_type": "code",
   "execution_count": null,
   "id": "883f3590-aef2-4787-b6e2-b6e4fcb46055",
   "metadata": {},
   "outputs": [],
   "source": [
    "# df_orig.describe()"
   ]
  },
  {
   "cell_type": "code",
   "execution_count": 10,
   "id": "23168840-5351-4d2b-8584-111ade405cc9",
   "metadata": {},
   "outputs": [],
   "source": [
    "# df_noise.describe()"
   ]
  },
  {
   "cell_type": "code",
   "execution_count": 223,
   "id": "3caf560e-41ec-41a4-8828-d6e31ad02763",
   "metadata": {},
   "outputs": [
    {
     "data": {
      "image/png": "[encoded data removed]",
      "text/plain": [
       "<Figure size 640x480 with 1 Axes>"
      ]
     },
     "metadata": {},
     "output_type": "display_data"
    }
   ],
   "source": [
    "plot_curve(df_orig, df_noise)"
   ]
  },
  {
   "cell_type": "markdown",
   "id": "d0279809-bb85-4a2c-bff3-90565a325259",
   "metadata": {},
   "source": [
    "# 3) Create model"
   ]
  },
  {
   "cell_type": "code",
   "execution_count": 17,
   "id": "659e4b8f-4c16-4e3f-9975-bd268de1a582",
   "metadata": {},
   "outputs": [],
   "source": [
    "sequence_length = 119\n",
    "num_epochs = 30\n",
    "batch_size = 32"
   ]
  },
  {
   "cell_type": "code",
   "execution_count": 18,
   "id": "f9127eb1-1e40-4702-a9be-d6e81ed0402b",
   "metadata": {},
   "outputs": [],
   "source": [
    "features = noised_curves  \n",
    "labels = original_curves"
   ]
  },
  {
   "cell_type": "code",
   "execution_count": null,
   "id": "cb6dbd10-1c93-4317-92c3-48a3412fdc36",
   "metadata": {},
   "outputs": [],
   "source": [
    "#High snr score, but poor fold loss (bad gerenarilzation)\n",
    "\n",
    "# def create_lstm_model(dropout_rate=0.2):\n",
    "#     model = Sequential([\n",
    "#         keras.layers.LSTM(units=64, return_sequences=True, input_shape=(sequence_length, 1)),\n",
    "#         keras.layers.Dropout(dropout_rate),\n",
    "#         keras.layers.LSTM(units=32),\n",
    "#         keras.layers.Dense(sequence_length)\n",
    "#     ])\n",
    "\n",
    "#     opt = keras.optimizers.Adagrad(1e-1)\n",
    "#     model.compile(loss='mse', optimizer=opt)\n",
    "#     return model"
   ]
  },
  {
   "cell_type": "code",
   "execution_count": 188,
   "id": "ba46d76f-52e6-47de-8b6c-6461b9cf3b6a",
   "metadata": {},
   "outputs": [],
   "source": [
    "def create_lstm_model(dropout_rate=0.2):\n",
    "    model = Sequential([\n",
    "        keras.layers.LSTM(units=64, return_sequences=True, input_shape=(sequence_length, 1)),\n",
    "        keras.layers.Dropout(dropout_rate),\n",
    "        keras.layers.LSTM(units=32),\n",
    "        keras.layers.Dropout(dropout_rate / 2),\n",
    "        keras.layers.Dense(sequence_length)\n",
    "    ])\n",
    "\n",
    "    opt = keras.optimizers.Adagrad(1e-2)\n",
    "    model.compile(loss='mse', optimizer=opt)\n",
    "    return model"
   ]
  },
  {
   "cell_type": "markdown",
   "id": "3149259c-80cb-4f31-a48d-524462f92396",
   "metadata": {},
   "source": [
    "K-Fold cross-validation is a good validation technique because it reduces overfitting, ensures better utilization of data and makes model more robust overall"
   ]
  },
  {
   "cell_type": "code",
   "execution_count": 189,
   "id": "a7a45188-0c25-4852-ba26-a278ed5afc17",
   "metadata": {},
   "outputs": [],
   "source": [
    "X_train, X_val, y_train, y_val = train_test_split(features, labels, test_size=0.2, random_state=42)\n",
    "\n",
    "cv = KFold(n_splits=3, shuffle=True, random_state=42)\n",
    "\n",
    "model = KerasRegressor(model=create_lstm_model, epochs=num_epochs, batch_size=batch_size)"
   ]
  },
  {
   "cell_type": "code",
   "execution_count": 190,
   "id": "9cfba1e2-8000-44b3-a4b3-842504149e93",
   "metadata": {},
   "outputs": [
    {
     "name": "stdout",
     "output_type": "stream",
     "text": [
      "Epoch 1/30\n",
      "75/75 [==============================] - 5s 36ms/step - loss: 0.7360\n",
      "Epoch 2/30\n",
      "75/75 [==============================] - 3s 39ms/step - loss: 0.6065\n",
      "Epoch 3/30\n",
      "75/75 [==============================] - 3s 36ms/step - loss: 0.4538\n",
      "Epoch 4/30\n",
      "75/75 [==============================] - 3s 34ms/step - loss: 0.3369\n",
      "Epoch 5/30\n",
      "75/75 [==============================] - 3s 34ms/step - loss: 0.2441\n",
      "Epoch 6/30\n",
      "75/75 [==============================] - 3s 34ms/step - loss: 0.1773\n",
      "Epoch 7/30\n",
      "75/75 [==============================] - 3s 34ms/step - loss: 0.1461\n",
      "Epoch 8/30\n",
      "75/75 [==============================] - 3s 39ms/step - loss: 0.1342\n",
      "Epoch 9/30\n",
      "75/75 [==============================] - 3s 39ms/step - loss: 0.1293\n",
      "Epoch 10/30\n",
      "75/75 [==============================] - 3s 36ms/step - loss: 0.1265\n",
      "Epoch 11/30\n",
      "75/75 [==============================] - 3s 34ms/step - loss: 0.1249\n",
      "Epoch 12/30\n",
      "75/75 [==============================] - 3s 34ms/step - loss: 0.1240\n",
      "Epoch 13/30\n",
      "75/75 [==============================] - 3s 34ms/step - loss: 0.1227\n",
      "Epoch 14/30\n",
      "75/75 [==============================] - 3s 35ms/step - loss: 0.1228\n",
      "Epoch 15/30\n",
      "75/75 [==============================] - 3s 35ms/step - loss: 0.1212\n",
      "Epoch 16/30\n",
      "75/75 [==============================] - 3s 33ms/step - loss: 0.1203\n",
      "Epoch 17/30\n",
      "75/75 [==============================] - 2s 33ms/step - loss: 0.1198\n",
      "Epoch 18/30\n",
      "75/75 [==============================] - 3s 34ms/step - loss: 0.1190\n",
      "Epoch 19/30\n",
      "75/75 [==============================] - 3s 34ms/step - loss: 0.1187\n",
      "Epoch 20/30\n",
      "75/75 [==============================] - 3s 34ms/step - loss: 0.1176\n",
      "Epoch 21/30\n",
      "75/75 [==============================] - 3s 35ms/step - loss: 0.1166\n",
      "Epoch 22/30\n",
      "75/75 [==============================] - 3s 34ms/step - loss: 0.1158\n",
      "Epoch 23/30\n",
      "75/75 [==============================] - 2s 33ms/step - loss: 0.1152\n",
      "Epoch 24/30\n",
      "75/75 [==============================] - 3s 34ms/step - loss: 0.1146\n",
      "Epoch 25/30\n",
      "75/75 [==============================] - 3s 34ms/step - loss: 0.1133\n",
      "Epoch 26/30\n",
      "75/75 [==============================] - 3s 33ms/step - loss: 0.1112\n",
      "Epoch 27/30\n",
      "75/75 [==============================] - 3s 36ms/step - loss: 0.1114\n",
      "Epoch 28/30\n",
      "75/75 [==============================] - 3s 37ms/step - loss: 0.1093\n",
      "Epoch 29/30\n",
      "75/75 [==============================] - 3s 39ms/step - loss: 0.1085\n",
      "Epoch 30/30\n",
      "75/75 [==============================] - 3s 36ms/step - loss: 0.1067\n",
      "29/29 [==============================] - 1s 16ms/step\n",
      "Fold loss: 0.572535308976559\n",
      "Epoch 1/30\n",
      "75/75 [==============================] - 5s 36ms/step - loss: 0.7497\n",
      "Epoch 2/30\n",
      "75/75 [==============================] - 3s 39ms/step - loss: 0.6367\n",
      "Epoch 3/30\n",
      "75/75 [==============================] - 3s 40ms/step - loss: 0.5112\n",
      "Epoch 4/30\n",
      "75/75 [==============================] - 3s 36ms/step - loss: 0.3934\n",
      "Epoch 5/30\n",
      "75/75 [==============================] - 3s 35ms/step - loss: 0.3052\n",
      "Epoch 6/30\n",
      "75/75 [==============================] - 3s 35ms/step - loss: 0.2352\n",
      "Epoch 7/30\n",
      "75/75 [==============================] - 3s 36ms/step - loss: 0.1748\n",
      "Epoch 8/30\n",
      "75/75 [==============================] - 3s 38ms/step - loss: 0.1423\n",
      "Epoch 9/30\n",
      "75/75 [==============================] - 3s 35ms/step - loss: 0.1309\n",
      "Epoch 10/30\n",
      "75/75 [==============================] - 3s 35ms/step - loss: 0.1267\n",
      "Epoch 11/30\n",
      "75/75 [==============================] - 3s 39ms/step - loss: 0.1250\n",
      "Epoch 12/30\n",
      "75/75 [==============================] - 3s 41ms/step - loss: 0.1236\n",
      "Epoch 13/30\n",
      "75/75 [==============================] - 3s 43ms/step - loss: 0.1230\n",
      "Epoch 14/30\n",
      "75/75 [==============================] - 3s 39ms/step - loss: 0.1223\n",
      "Epoch 15/30\n",
      "75/75 [==============================] - 3s 37ms/step - loss: 0.1208\n",
      "Epoch 16/30\n",
      "75/75 [==============================] - 3s 37ms/step - loss: 0.1214\n",
      "Epoch 17/30\n",
      "75/75 [==============================] - 3s 37ms/step - loss: 0.1203\n",
      "Epoch 18/30\n",
      "75/75 [==============================] - 3s 38ms/step - loss: 0.1204\n",
      "Epoch 19/30\n",
      "75/75 [==============================] - 3s 39ms/step - loss: 0.1196\n",
      "Epoch 20/30\n",
      "75/75 [==============================] - 3s 37ms/step - loss: 0.1189\n",
      "Epoch 21/30\n",
      "75/75 [==============================] - 3s 37ms/step - loss: 0.1180\n",
      "Epoch 22/30\n",
      "75/75 [==============================] - 3s 39ms/step - loss: 0.1174\n",
      "Epoch 23/30\n",
      "75/75 [==============================] - 3s 36ms/step - loss: 0.1166\n",
      "Epoch 24/30\n",
      "75/75 [==============================] - 3s 36ms/step - loss: 0.1160\n",
      "Epoch 25/30\n",
      "75/75 [==============================] - 3s 35ms/step - loss: 0.1154\n",
      "Epoch 26/30\n",
      "75/75 [==============================] - 3s 35ms/step - loss: 0.1153\n",
      "Epoch 27/30\n",
      "75/75 [==============================] - 3s 38ms/step - loss: 0.1140\n",
      "Epoch 28/30\n",
      "75/75 [==============================] - 3s 36ms/step - loss: 0.1134\n",
      "Epoch 29/30\n",
      "75/75 [==============================] - 3s 35ms/step - loss: 0.1126\n",
      "Epoch 30/30\n",
      "75/75 [==============================] - 3s 37ms/step - loss: 0.1121\n",
      "29/29 [==============================] - 1s 14ms/step\n",
      "Fold loss: 0.5643575690449608\n",
      "Epoch 1/30\n",
      "75/75 [==============================] - 5s 35ms/step - loss: 0.7447\n",
      "Epoch 2/30\n",
      "75/75 [==============================] - 3s 37ms/step - loss: 0.6272\n",
      "Epoch 3/30\n",
      "75/75 [==============================] - 3s 35ms/step - loss: 0.4933\n",
      "Epoch 4/30\n",
      "75/75 [==============================] - 3s 40ms/step - loss: 0.3771\n",
      "Epoch 5/30\n",
      "75/75 [==============================] - 3s 39ms/step - loss: 0.2921\n",
      "Epoch 6/30\n",
      "75/75 [==============================] - 3s 36ms/step - loss: 0.2123\n",
      "Epoch 7/30\n",
      "75/75 [==============================] - 3s 37ms/step - loss: 0.1567\n",
      "Epoch 8/30\n",
      "75/75 [==============================] - 3s 35ms/step - loss: 0.1375\n",
      "Epoch 9/30\n",
      "75/75 [==============================] - 3s 34ms/step - loss: 0.1305\n",
      "Epoch 10/30\n",
      "75/75 [==============================] - 3s 36ms/step - loss: 0.1273\n",
      "Epoch 11/30\n",
      "75/75 [==============================] - 3s 37ms/step - loss: 0.1256\n",
      "Epoch 12/30\n",
      "75/75 [==============================] - 3s 35ms/step - loss: 0.1243\n",
      "Epoch 13/30\n",
      "75/75 [==============================] - 3s 34ms/step - loss: 0.1233\n",
      "Epoch 14/30\n",
      "75/75 [==============================] - 3s 37ms/step - loss: 0.1232\n",
      "Epoch 15/30\n",
      "75/75 [==============================] - 3s 35ms/step - loss: 0.1221\n",
      "Epoch 16/30\n",
      "75/75 [==============================] - 3s 37ms/step - loss: 0.1219\n",
      "Epoch 17/30\n",
      "75/75 [==============================] - 3s 35ms/step - loss: 0.1218\n",
      "Epoch 18/30\n",
      "75/75 [==============================] - 3s 34ms/step - loss: 0.1213\n",
      "Epoch 19/30\n",
      "75/75 [==============================] - 3s 39ms/step - loss: 0.1205\n",
      "Epoch 20/30\n",
      "75/75 [==============================] - 3s 35ms/step - loss: 0.1202\n",
      "Epoch 21/30\n",
      "75/75 [==============================] - 3s 34ms/step - loss: 0.1198\n",
      "Epoch 22/30\n",
      "75/75 [==============================] - 3s 35ms/step - loss: 0.1189\n",
      "Epoch 23/30\n",
      "75/75 [==============================] - 3s 41ms/step - loss: 0.1193\n",
      "Epoch 24/30\n",
      "75/75 [==============================] - 3s 40ms/step - loss: 0.1189\n",
      "Epoch 25/30\n",
      "75/75 [==============================] - 3s 37ms/step - loss: 0.1180\n",
      "Epoch 26/30\n",
      "75/75 [==============================] - 3s 39ms/step - loss: 0.1176\n",
      "Epoch 27/30\n",
      "75/75 [==============================] - 3s 38ms/step - loss: 0.1168\n",
      "Epoch 28/30\n",
      "75/75 [==============================] - 3s 38ms/step - loss: 0.1164\n",
      "Epoch 29/30\n",
      "75/75 [==============================] - 3s 35ms/step - loss: 0.1162\n",
      "Epoch 30/30\n",
      "75/75 [==============================] - 3s 35ms/step - loss: 0.1157\n",
      "29/29 [==============================] - 1s 14ms/step\n",
      "Fold loss: 0.5527956697342365\n",
      "Average CV loss: 0.5632295159185855\n"
     ]
    }
   ],
   "source": [
    "# Perform KFold cross-validation with validation on each fold\n",
    "cvscores = []\n",
    "for train, test in cv.split(X_train):\n",
    "  \n",
    "  # Train on the training fold\n",
    "  model.fit(X_train[train], y_train[train])  \n",
    "\n",
    "  # Evaluate on the validation set\n",
    "  loss = model.score(X_val, y_val) \n",
    "    \n",
    "  cvscores.append(loss)\n",
    "  print(f\"Fold loss: {loss}\")\n",
    "\n",
    "# Print average cross-validation score\n",
    "print(f\"Average CV loss: {np.mean(cvscores)}\")"
   ]
  },
  {
   "cell_type": "markdown",
   "id": "2bc80822-92e8-4196-a0a9-e760806ab330",
   "metadata": {},
   "source": [
    "# 4) Evaluate model"
   ]
  },
  {
   "cell_type": "markdown",
   "id": "090e9a7c-ad65-44a2-8a20-fd57225580cb",
   "metadata": {},
   "source": [
    "SNR (Signal-to-Noise Ratio) is a good evaluation metric for denoising curves because it provides a quantitative measure of the quality of the denoised signal relative to the noise present in the original signal."
   ]
  },
  {
   "cell_type": "code",
   "execution_count": 200,
   "id": "ff4d17ca-5cf6-4362-bc08-e2d00867be91",
   "metadata": {
    "editable": true,
    "slideshow": {
     "slide_type": ""
    },
    "tags": []
   },
   "outputs": [],
   "source": [
    "def calculate_snr(clean_curves, denoised_curves):\n",
    "    \n",
    "    # Calculate signal power\n",
    "    signal_power = tf.reduce_sum(tf.square(clean_curves))\n",
    "\n",
    "    # Calculate noise power\n",
    "    noise = clean_curves - denoised_curves\n",
    "    noise_power = tf.reduce_sum(tf.square(noise))\n",
    "\n",
    "    # Calculate SNR\n",
    "    snr = 10 * tf.math.log(signal_power / noise_power) / tf.math.log(10.0)\n",
    "    return snr"
   ]
  },
  {
   "cell_type": "code",
   "execution_count": 201,
   "id": "ace660ae-5f43-4f15-b166-4ca34cf28b70",
   "metadata": {},
   "outputs": [
    {
     "name": "stdout",
     "output_type": "stream",
     "text": [
      "141/141 [==============================] - 2s 14ms/step\n"
     ]
    },
    {
     "data": {
      "text/plain": [
       "<tf.Tensor: shape=(), dtype=float32, numpy=8.931012>"
      ]
     },
     "execution_count": 201,
     "metadata": {},
     "output_type": "execute_result"
    }
   ],
   "source": [
    "original_curves = tf.cast(original_curves, dtype=tf.float32)\n",
    "denoised_curves = model.predict(noised_curves)\n",
    "denoised_curves = tf.cast(denoised_curves, dtype=tf.float32)\n",
    "\n",
    "snr = calculate_snr(original_curves, denoised_curves)\n",
    "snr"
   ]
  },
  {
   "cell_type": "markdown",
   "id": "8d32a2f7-f58d-45a1-b3ed-83d7c5118ebe",
   "metadata": {},
   "source": [
    "Grid Search Cross-Validation was used to determine best parameters for the model"
   ]
  },
  {
   "cell_type": "code",
   "execution_count": 198,
   "id": "00d80a25-546b-494b-b356-51f75bd570c9",
   "metadata": {},
   "outputs": [],
   "source": [
    "# def create_lstm_model(sequence_length=119, learning_rate=0.01, dropout_rate=0.2):\n",
    "#     model = Sequential([\n",
    "#         keras.layers.LSTM(units=64, return_sequences=True, input_shape=(sequence_length, 1)),\n",
    "#         keras.layers.Dropout(dropout_rate),\n",
    "#         keras.layers.LSTM(units=32),\n",
    "#         keras.layers.Dense(sequence_length)\n",
    "#     ])\n",
    "#     model.compile(loss='mse', optimizer=keras.optimizers.Adam(learning_rate=learning_rate))\n",
    "#     return model\n",
    "\n",
    "\n",
    "# def snr_scorer(y_true, y_pred):\n",
    "    \n",
    "#     snr_values = calculate_snr(y_true, y_pred)\n",
    "#     return np.mean(snr_values)\n",
    "\n",
    "\n",
    "# lstm_regressor = KerasRegressor(model=create_lstm_model, verbose=0)\n",
    "\n",
    "\n",
    "# param_grid = {\n",
    "#     'optimizer': [\"rmsprop\", \"adadelta\", \"adagrad\", \"SGD\"],\n",
    "#     'loss': [\"mse\", \"mae\"],\n",
    "#     'batch_size': [16, 32, 64],\n",
    "#     'epochs': [30, 50, 70]\n",
    "# }\n",
    "\n",
    "\n",
    "# grid_search = GridSearchCV(estimator=lstm_regressor, param_grid=param_grid, cv=3, scoring=make_scorer(snr_scorer))\n",
    "# grid_search.fit(X_train, y_train)  \n",
    "\n",
    "\n",
    "# print(\"Best parameters found: \", grid_search.best_params_)\n",
    "# print(\"Best SNR score found: \", grid_search.best_score_)"
   ]
  },
  {
   "cell_type": "code",
   "execution_count": 239,
   "id": "cc01d789-cc3d-4a7b-9dd9-31b688adc264",
   "metadata": {},
   "outputs": [],
   "source": [
    "def save_denoised_curves(path, original_curves, deniosed_curves):\n",
    "    df = pd.DataFrame(columns=['Denoised Curve', 'Original Curve'])\n",
    "\n",
    "    for denoised_curve, original_curve in zip(denoised_curves, original_curves):\n",
    "        row = [noised_curve, original_curve] \n",
    "    \n",
    "        df.loc[len(df)] = row\n",
    "    \n",
    "    path = os.path.join(path, \"denoised_curves.csv\")\n",
    "    df.to_csv(path)"
   ]
  },
  {
   "cell_type": "code",
   "execution_count": 240,
   "id": "403fe5e0-c591-4fe0-a2ba-a6b2ee9b5ad5",
   "metadata": {},
   "outputs": [],
   "source": [
    "save_denoised_curves(\"D:\\DSUA\", np.array(original_curves), np.array(denoised_curves))"
   ]
  },
  {
   "cell_type": "code",
   "execution_count": 229,
   "id": "2dcc2dc5-d90c-474e-92e8-ea61dba20cd1",
   "metadata": {},
   "outputs": [
    {
     "name": "stdout",
     "output_type": "stream",
     "text": [
      "1/1 [==============================] - 0s 29ms/step\n"
     ]
    },
    {
     "data": {
      "image/png": "[encoded data removed]",
      "text/plain": [
       "<Figure size 640x480 with 1 Axes>"
      ]
     },
     "metadata": {},
     "output_type": "display_data"
    }
   ],
   "source": [
    "#Plot the original and denoised curves\n",
    "\n",
    "def show_curve(orig_curve, noise_curve):\n",
    "    plt.plot(orig_curve, label='Original curve', color='blue')\n",
    "    plt.plot(noise_curve, label='Noised curve', color='red')  \n",
    "    \n",
    "    plt.xlabel('Index')\n",
    "    plt.ylabel('Value')  \n",
    "    \n",
    "    plt.title('Comparison') \n",
    "    plt.legend()\n",
    "    plt.grid(True)\n",
    "    \n",
    "    plt.show()\n",
    "\n",
    "# Example usage\n",
    "example = np.array(original_curves[0])\n",
    "example = example.reshape(1, -1)\n",
    "d_example = model.predict(example)\n",
    "\n",
    "plot_curve(example.flatten(), d_example.flatten())"
   ]
  },
  {
   "cell_type": "code",
   "execution_count": null,
   "id": "10f7fecc-d697-4080-91df-e6e23073e935",
   "metadata": {},
   "outputs": [],
   "source": []
  }
 ],
 "metadata": {
  "kernelspec": {
   "display_name": "Python 3 (ipykernel)",
   "language": "python",
   "name": "python3"
  },
  "language_info": {
   "codemirror_mode": {
    "name": "ipython",
    "version": 3
   },
   "file_extension": ".py",
   "mimetype": "text/x-python",
   "name": "python",
   "nbconvert_exporter": "python",
   "pygments_lexer": "ipython3",
   "version": "3.9.18"
  }
 },
 "nbformat": 4,
 "nbformat_minor": 5
}
